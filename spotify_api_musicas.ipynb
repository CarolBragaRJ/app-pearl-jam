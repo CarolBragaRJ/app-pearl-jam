{
  "nbformat": 4,
  "nbformat_minor": 0,
  "metadata": {
    "colab": {
      "name": "spotify-api-musicas.ipynb",
      "provenance": []
    },
    "kernelspec": {
      "name": "python3",
      "display_name": "Python 3"
    }
  },
  "cells": [
    {
      "cell_type": "markdown",
      "metadata": {
        "id": "ItUzIRdmRX--"
      },
      "source": [
        "##Coletar os dados via API Spotify"
      ]
    },
    {
      "cell_type": "code",
      "metadata": {
        "id": "Pv6An5HcRSY-",
        "colab": {
          "base_uri": "https://localhost:8080/"
        },
        "outputId": "54f4021d-d962-441a-e6a2-88d3018e9095"
      },
      "source": [
        "!pip install spotipy"
      ],
      "execution_count": null,
      "outputs": [
        {
          "output_type": "stream",
          "text": [
            "Collecting spotipy\n",
            "  Downloading https://files.pythonhosted.org/packages/7a/cd/e7d9a35216ea5bfb9234785f3d8fa7c96d0e33999c2cb72394128f6b4cce/spotipy-2.16.1-py3-none-any.whl\n",
            "Requirement already satisfied: requests>=2.20.0 in /usr/local/lib/python3.6/dist-packages (from spotipy) (2.23.0)\n",
            "Requirement already satisfied: six>=1.10.0 in /usr/local/lib/python3.6/dist-packages (from spotipy) (1.15.0)\n",
            "Requirement already satisfied: chardet<4,>=3.0.2 in /usr/local/lib/python3.6/dist-packages (from requests>=2.20.0->spotipy) (3.0.4)\n",
            "Requirement already satisfied: certifi>=2017.4.17 in /usr/local/lib/python3.6/dist-packages (from requests>=2.20.0->spotipy) (2020.11.8)\n",
            "Requirement already satisfied: urllib3!=1.25.0,!=1.25.1,<1.26,>=1.21.1 in /usr/local/lib/python3.6/dist-packages (from requests>=2.20.0->spotipy) (1.24.3)\n",
            "Requirement already satisfied: idna<3,>=2.5 in /usr/local/lib/python3.6/dist-packages (from requests>=2.20.0->spotipy) (2.10)\n",
            "Installing collected packages: spotipy\n",
            "Successfully installed spotipy-2.16.1\n"
          ],
          "name": "stdout"
        }
      ]
    },
    {
      "cell_type": "code",
      "metadata": {
        "id": "CNWMOurw_CxE"
      },
      "source": [
        "#importar libs\n",
        "import spotipy\n",
        "import csv"
      ],
      "execution_count": null,
      "outputs": []
    },
    {
      "cell_type": "code",
      "metadata": {
        "id": "po85lK_d_JgE"
      },
      "source": [
        "#conectar a API Spotify\n",
        "from spotipy.oauth2 import SpotifyClientCredentials\n",
        "\n",
        "spot = spotipy.Spotify(client_credentials_manager = SpotifyClientCredentials(client_id=\"xxxxxxxxx\", client_secret=\"xxxxxxxxx\"))"
      ],
      "execution_count": null,
      "outputs": []
    },
    {
      "cell_type": "code",
      "metadata": {
        "id": "iy2VKpsvPbC2"
      },
      "source": [
        "#Função para recuperar dados do artista através do seu Nome\n",
        "\n",
        "def get_artista_por_nome(name):\n",
        "    busca = spot.search(name)\n",
        "    items = busca['tracks']['items']\n",
        "    if len(items) > 0:\n",
        "        return items[0]['artists'][0]\n",
        "    else:\n",
        "        return None\n"
      ],
      "execution_count": null,
      "outputs": []
    },
    {
      "cell_type": "code",
      "metadata": {
        "id": "X_pQiA7kPvcG"
      },
      "source": [
        "#A partir do artista determinado na função anterior, recuperamos o seu ID\n",
        "\n",
        "def get_id_do_artista(artist):\n",
        "    return artist['id']"
      ],
      "execution_count": null,
      "outputs": []
    },
    {
      "cell_type": "code",
      "metadata": {
        "id": "Y6XbNGBlP5zc"
      },
      "source": [
        "#Ficar atento ao limite\n",
        "\n",
        "def get_dados_do_artista(id):\n",
        " \n",
        "  #Retornar albuns do artista\n",
        "  albuns_do_artista = spot.artist_albums(id, country = 'BR', limit=10)\n",
        "  albuns = {}\n",
        "\n",
        "  for i in range(len(albuns_do_artista['items'])):\n",
        "    id = albuns_do_artista['items'][i]['id']\n",
        "    name = albuns_do_artista['items'][i]['name']\n",
        "    albuns[id] = name\n",
        " \n",
        "  return albuns"
      ],
      "execution_count": null,
      "outputs": []
    },
    {
      "cell_type": "code",
      "metadata": {
        "id": "Pf-3UzR2QEQu"
      },
      "source": [
        "\n",
        "#Função para retornar os dados das músicas dos álbuns\n",
        "\n",
        "def get_dados_dos_albuns(album_id, album_name):\n",
        "  spotify_album = {}\n",
        "  \n",
        "  #Recuperar as músicas dos álbuns\n",
        "  tracks = spot.album_tracks(album_id)\n",
        "  \n",
        "  for n in range(len(tracks['items'])):\n",
        "    id_track = tracks['items'][n]['id']\n",
        "    track = spot.track(id_track)\n",
        "    spotify_album[id_track] = {}\n",
        "    \n",
        "    #As variaveis (dados) que estou buscando das músicas\n",
        "    spotify_album[id_track]['album'] = album_name \n",
        "    spotify_album[id_track]['track_number'] = track['track_number'] \n",
        "    spotify_album[id_track]['name'] = track['name'] \n",
        "    spotify_album[id_track]['popularity'] = track['popularity'] \n",
        "    \n",
        "  return spotify_album"
      ],
      "execution_count": null,
      "outputs": []
    },
    {
      "cell_type": "code",
      "metadata": {
        "id": "WP7gOoqfQQrA"
      },
      "source": [
        "#Função para retornar os dados de todos os albuns\n",
        "\n",
        "def get_dados_de_todos_albuns(albums_ids_names):\n",
        "  spotify_albums = []\n",
        "  albums_names = []\n",
        "  for id, name in albums_ids_names.items():\n",
        "    if name not in albums_names:\n",
        "      albums_names.append(name)\n",
        "      dados_dos_albuns = get_dados_dos_albuns(id,name) \n",
        "    for item in dados_dos_albuns.items():\n",
        "      spotify_albums.append(item[1]) \n",
        "  return spotify_albums"
      ],
      "execution_count": null,
      "outputs": []
    },
    {
      "cell_type": "code",
      "metadata": {
        "id": "8lD7T2xuQZeW"
      },
      "source": [
        "#Para poder analisar os dados coletados, precisamos criar uma Func p/ transformar todos os dados coletados em um arquivo CSV\n",
        "\n",
        "def convert_to_csv(filepath, name):\n",
        "  keys = filepath[0].keys()\n",
        "  print(keys)\n",
        "  csv_name = ''+ name + '.csv'\n",
        "  with open(csv_name, 'w') as output_file:\n",
        "    dict_writer = csv.DictWriter(output_file, keys)\n",
        "    dict_writer.writeheader()\n",
        "    dict_writer.writerows(filepath)\n",
        "  return"
      ],
      "execution_count": null,
      "outputs": []
    },
    {
      "cell_type": "code",
      "metadata": {
        "id": "RxXerWjgQgcp",
        "colab": {
          "base_uri": "https://localhost:8080/"
        },
        "outputId": "0e3d9461-97bd-4e0d-c7b5-49bf853fe8ba"
      },
      "source": [
        "#Agora o mais importante, precisamos determinar de qual artista queremos coletar os dados e fazer a coleta\n",
        "\n",
        "name = \"Pearl Jam\"\n",
        "\n",
        "artista = get_artista_por_nome(name)    \n",
        "\n",
        "#Se encontrar o artista no spotify:\n",
        "if artista:\n",
        "  id_do_artista = get_id_do_artista(artista)\n",
        "  dados_do_artista = get_dados_do_artista(id_do_artista)\n",
        "  dados_dos_albuns = get_dados_de_todos_albuns(dados_do_artista)\n",
        "  convert_to_csv(dados_dos_albuns, 'Pearl Jam')   \n",
        "\n",
        "else:\n",
        "  logger.error(\"Can't find artist: %s\", artista)"
      ],
      "execution_count": null,
      "outputs": [
        {
          "output_type": "stream",
          "text": [
            "dict_keys(['album', 'track_number', 'name', 'popularity'])\n"
          ],
          "name": "stdout"
        }
      ]
    },
    {
      "cell_type": "markdown",
      "metadata": {
        "id": "AeSqjAd3RfDx"
      },
      "source": [
        "##Importar os dados e limpeza"
      ]
    },
    {
      "cell_type": "code",
      "metadata": {
        "id": "TlInmYWXRJHN"
      },
      "source": [
        "#importar os pacotes necessarios\n",
        "import pandas as pd \n",
        "import matplotlib.pyplot as plt \n",
        "import seaborn as sns \n",
        "\n",
        "#Configurar o notebook\n",
        "sns.set_style('whitegrid');\n",
        "\n",
        "#Alterando estilo do matplolib\n",
        "plt.style.use('ggplot')"
      ],
      "execution_count": null,
      "outputs": []
    },
    {
      "cell_type": "code",
      "metadata": {
        "id": "EF05hUVpRooX"
      },
      "source": [
        "#Importando o conjunto de dados NexoAnexo\n",
        "df = pd.read_excel('pj-spotify.xlsx')"
      ],
      "execution_count": null,
      "outputs": []
    },
    {
      "cell_type": "code",
      "metadata": {
        "id": "iXoCUnI1Ru0H",
        "colab": {
          "base_uri": "https://localhost:8080/"
        },
        "outputId": "105ec6df-a325-4d95-d8e1-55166ef74072"
      },
      "source": [
        "#Numero de linhas e colunas\n",
        "print(f'Número de linhas ou variaveis {df.shape[0]}')\n",
        "print(f'Número de entradas ou colunas {df.shape[1]}')"
      ],
      "execution_count": null,
      "outputs": [
        {
          "output_type": "stream",
          "text": [
            "Número de linhas ou variaveis 125\n",
            "Número de entradas ou colunas 4\n"
          ],
          "name": "stdout"
        }
      ]
    },
    {
      "cell_type": "code",
      "metadata": {
        "id": "0Z0jHfi8R0Wm",
        "colab": {
          "base_uri": "https://localhost:8080/"
        },
        "outputId": "42c11c4b-9557-489e-9ec4-5a5b29fdd02f"
      },
      "source": [
        "#As colunas que pertencem ao conjunto de dados\n",
        "df.columns"
      ],
      "execution_count": null,
      "outputs": [
        {
          "output_type": "execute_result",
          "data": {
            "text/plain": [
              "Index(['album', 'track_number', 'name', 'popularity'], dtype='object')"
            ]
          },
          "metadata": {
            "tags": []
          },
          "execution_count": 5
        }
      ]
    },
    {
      "cell_type": "code",
      "metadata": {
        "id": "ltKjtUz2SDZC",
        "colab": {
          "base_uri": "https://localhost:8080/",
          "height": 204
        },
        "outputId": "38b59b9f-399b-4f1a-e624-ee146945f88d"
      },
      "source": [
        "#As 5 primeiras linhas do conjunto de dados\n",
        "df.head()"
      ],
      "execution_count": null,
      "outputs": [
        {
          "output_type": "execute_result",
          "data": {
            "text/html": [
              "<div>\n",
              "<style scoped>\n",
              "    .dataframe tbody tr th:only-of-type {\n",
              "        vertical-align: middle;\n",
              "    }\n",
              "\n",
              "    .dataframe tbody tr th {\n",
              "        vertical-align: top;\n",
              "    }\n",
              "\n",
              "    .dataframe thead th {\n",
              "        text-align: right;\n",
              "    }\n",
              "</style>\n",
              "<table border=\"1\" class=\"dataframe\">\n",
              "  <thead>\n",
              "    <tr style=\"text-align: right;\">\n",
              "      <th></th>\n",
              "      <th>album</th>\n",
              "      <th>track_number</th>\n",
              "      <th>name</th>\n",
              "      <th>popularity</th>\n",
              "    </tr>\n",
              "  </thead>\n",
              "  <tbody>\n",
              "    <tr>\n",
              "      <th>0</th>\n",
              "      <td>MTV Unplugged</td>\n",
              "      <td>1</td>\n",
              "      <td>Oceans - Live MTV Unplugged</td>\n",
              "      <td>55</td>\n",
              "    </tr>\n",
              "    <tr>\n",
              "      <th>1</th>\n",
              "      <td>MTV Unplugged</td>\n",
              "      <td>2</td>\n",
              "      <td>State of Love And Trust - Live MTV Unplugged</td>\n",
              "      <td>55</td>\n",
              "    </tr>\n",
              "    <tr>\n",
              "      <th>2</th>\n",
              "      <td>MTV Unplugged</td>\n",
              "      <td>3</td>\n",
              "      <td>Alive - Live MTV Unplugged</td>\n",
              "      <td>55</td>\n",
              "    </tr>\n",
              "    <tr>\n",
              "      <th>3</th>\n",
              "      <td>MTV Unplugged</td>\n",
              "      <td>4</td>\n",
              "      <td>Black - Live MTV Unplugged</td>\n",
              "      <td>62</td>\n",
              "    </tr>\n",
              "    <tr>\n",
              "      <th>4</th>\n",
              "      <td>MTV Unplugged</td>\n",
              "      <td>5</td>\n",
              "      <td>Jeremy - Live MTV Unplugged</td>\n",
              "      <td>54</td>\n",
              "    </tr>\n",
              "  </tbody>\n",
              "</table>\n",
              "</div>"
            ],
            "text/plain": [
              "           album  ...  popularity\n",
              "0  MTV Unplugged  ...          55\n",
              "1  MTV Unplugged  ...          55\n",
              "2  MTV Unplugged  ...          55\n",
              "3  MTV Unplugged  ...          62\n",
              "4  MTV Unplugged  ...          54\n",
              "\n",
              "[5 rows x 4 columns]"
            ]
          },
          "metadata": {
            "tags": []
          },
          "execution_count": 6
        }
      ]
    },
    {
      "cell_type": "code",
      "metadata": {
        "id": "OSk6psg6SHLa"
      },
      "source": [
        "#Renomeando as colunas\n",
        "df.columns = ['nome_do_album', 'posicao_da_faixa',  'nome_da_faixa', 'popularidade']"
      ],
      "execution_count": null,
      "outputs": []
    },
    {
      "cell_type": "code",
      "metadata": {
        "id": "bIhmXBqvS8LV",
        "colab": {
          "base_uri": "https://localhost:8080/",
          "height": 359
        },
        "outputId": "b80925c6-30a0-4795-c849-6b6aa8b62142"
      },
      "source": [
        "df.tail(10)"
      ],
      "execution_count": null,
      "outputs": [
        {
          "output_type": "execute_result",
          "data": {
            "text/html": [
              "<div>\n",
              "<style scoped>\n",
              "    .dataframe tbody tr th:only-of-type {\n",
              "        vertical-align: middle;\n",
              "    }\n",
              "\n",
              "    .dataframe tbody tr th {\n",
              "        vertical-align: top;\n",
              "    }\n",
              "\n",
              "    .dataframe thead th {\n",
              "        text-align: right;\n",
              "    }\n",
              "</style>\n",
              "<table border=\"1\" class=\"dataframe\">\n",
              "  <thead>\n",
              "    <tr style=\"text-align: right;\">\n",
              "      <th></th>\n",
              "      <th>nome_do_album</th>\n",
              "      <th>posicao_da_faixa</th>\n",
              "      <th>nome_da_faixa</th>\n",
              "      <th>popularidade</th>\n",
              "    </tr>\n",
              "  </thead>\n",
              "  <tbody>\n",
              "    <tr>\n",
              "      <th>115</th>\n",
              "      <td>Riot Act</td>\n",
              "      <td>6</td>\n",
              "      <td>I Am Mine</td>\n",
              "      <td>59</td>\n",
              "    </tr>\n",
              "    <tr>\n",
              "      <th>116</th>\n",
              "      <td>Riot Act</td>\n",
              "      <td>7</td>\n",
              "      <td>Thumbing My Way</td>\n",
              "      <td>48</td>\n",
              "    </tr>\n",
              "    <tr>\n",
              "      <th>117</th>\n",
              "      <td>Riot Act</td>\n",
              "      <td>8</td>\n",
              "      <td>You Are</td>\n",
              "      <td>37</td>\n",
              "    </tr>\n",
              "    <tr>\n",
              "      <th>118</th>\n",
              "      <td>Riot Act</td>\n",
              "      <td>9</td>\n",
              "      <td>Get Right</td>\n",
              "      <td>31</td>\n",
              "    </tr>\n",
              "    <tr>\n",
              "      <th>119</th>\n",
              "      <td>Riot Act</td>\n",
              "      <td>10</td>\n",
              "      <td>Green Disease</td>\n",
              "      <td>33</td>\n",
              "    </tr>\n",
              "    <tr>\n",
              "      <th>120</th>\n",
              "      <td>Riot Act</td>\n",
              "      <td>11</td>\n",
              "      <td>Help Help</td>\n",
              "      <td>30</td>\n",
              "    </tr>\n",
              "    <tr>\n",
              "      <th>121</th>\n",
              "      <td>Riot Act</td>\n",
              "      <td>12</td>\n",
              "      <td>Bu$hleaguer</td>\n",
              "      <td>31</td>\n",
              "    </tr>\n",
              "    <tr>\n",
              "      <th>122</th>\n",
              "      <td>Riot Act</td>\n",
              "      <td>13</td>\n",
              "      <td>1/2 Full</td>\n",
              "      <td>31</td>\n",
              "    </tr>\n",
              "    <tr>\n",
              "      <th>123</th>\n",
              "      <td>Riot Act</td>\n",
              "      <td>14</td>\n",
              "      <td>Arc</td>\n",
              "      <td>29</td>\n",
              "    </tr>\n",
              "    <tr>\n",
              "      <th>124</th>\n",
              "      <td>Riot Act</td>\n",
              "      <td>15</td>\n",
              "      <td>All or None</td>\n",
              "      <td>35</td>\n",
              "    </tr>\n",
              "  </tbody>\n",
              "</table>\n",
              "</div>"
            ],
            "text/plain": [
              "    nome_do_album  posicao_da_faixa    nome_da_faixa  popularidade\n",
              "115      Riot Act                 6        I Am Mine            59\n",
              "116      Riot Act                 7  Thumbing My Way            48\n",
              "117      Riot Act                 8          You Are            37\n",
              "118      Riot Act                 9        Get Right            31\n",
              "119      Riot Act                10    Green Disease            33\n",
              "120      Riot Act                11        Help Help            30\n",
              "121      Riot Act                12      Bu$hleaguer            31\n",
              "122      Riot Act                13         1/2 Full            31\n",
              "123      Riot Act                14              Arc            29\n",
              "124      Riot Act                15      All or None            35"
            ]
          },
          "metadata": {
            "tags": []
          },
          "execution_count": 8
        }
      ]
    },
    {
      "cell_type": "code",
      "metadata": {
        "id": "GAuEXWiSTEd9",
        "colab": {
          "base_uri": "https://localhost:8080/"
        },
        "outputId": "81a95380-ea72-4a9e-cdd4-52676c9453c9"
      },
      "source": [
        "#Identificando a presença de dados ausentes\n",
        "df.isna().sum()"
      ],
      "execution_count": null,
      "outputs": [
        {
          "output_type": "execute_result",
          "data": {
            "text/plain": [
              "nome_do_album       0\n",
              "posicao_da_faixa    0\n",
              "nome_da_faixa       0\n",
              "popularidade        0\n",
              "dtype: int64"
            ]
          },
          "metadata": {
            "tags": []
          },
          "execution_count": 9
        }
      ]
    },
    {
      "cell_type": "code",
      "metadata": {
        "id": "wlZFqAa8TLmU",
        "colab": {
          "base_uri": "https://localhost:8080/"
        },
        "outputId": "a1e35819-24f2-429f-9ac8-cc024cbce0a4"
      },
      "source": [
        "#Verificando os tipos das colunas\n",
        "df.dtypes"
      ],
      "execution_count": null,
      "outputs": [
        {
          "output_type": "execute_result",
          "data": {
            "text/plain": [
              "nome_do_album       object\n",
              "posicao_da_faixa     int64\n",
              "nome_da_faixa       object\n",
              "popularidade         int64\n",
              "dtype: object"
            ]
          },
          "metadata": {
            "tags": []
          },
          "execution_count": 10
        }
      ]
    },
    {
      "cell_type": "code",
      "metadata": {
        "id": "Sl_137OaTNlH",
        "colab": {
          "base_uri": "https://localhost:8080/"
        },
        "outputId": "7b1d340f-9e6d-47e2-e6a0-6fc91baed418"
      },
      "source": [
        "#Verificando valores duplicados\n",
        "df.duplicated().value_counts()"
      ],
      "execution_count": null,
      "outputs": [
        {
          "output_type": "execute_result",
          "data": {
            "text/plain": [
              "False    125\n",
              "dtype: int64"
            ]
          },
          "metadata": {
            "tags": []
          },
          "execution_count": 11
        }
      ]
    },
    {
      "cell_type": "code",
      "metadata": {
        "id": "LGlkVAzkTgro"
      },
      "source": [
        "df2 = df.drop_duplicates()"
      ],
      "execution_count": null,
      "outputs": []
    },
    {
      "cell_type": "code",
      "metadata": {
        "id": "BrL-kuDdTzWM",
        "colab": {
          "base_uri": "https://localhost:8080/"
        },
        "outputId": "e21232fa-4c6c-40dd-af21-ba353c829336"
      },
      "source": [
        "df2.duplicated().value_counts()"
      ],
      "execution_count": null,
      "outputs": [
        {
          "output_type": "execute_result",
          "data": {
            "text/plain": [
              "False    125\n",
              "dtype: int64"
            ]
          },
          "metadata": {
            "tags": []
          },
          "execution_count": 13
        }
      ]
    },
    {
      "cell_type": "code",
      "metadata": {
        "id": "NxejXZNXyCOe",
        "colab": {
          "base_uri": "https://localhost:8080/",
          "height": 316
        },
        "outputId": "9b6c87af-aa39-47e3-f73a-d71e01d3db97"
      },
      "source": [
        "#Plotando gráfico de boxplot\n",
        "sns.boxplot(x=df[\"popularidade\"], orient=\"vertical\");"
      ],
      "execution_count": null,
      "outputs": [
        {
          "output_type": "stream",
          "text": [
            "/usr/local/lib/python3.6/dist-packages/seaborn/_core.py:1303: UserWarning: Vertical orientation ignored with only `x` specified.\n",
            "  warnings.warn(single_var_warning.format(\"Vertical\", \"x\"))\n"
          ],
          "name": "stderr"
        },
        {
          "output_type": "display_data",
          "data": {
            "image/png": "[encoded data removed]",
            "text/plain": [
              "<Figure size 432x288 with 1 Axes>"
            ]
          },
          "metadata": {
            "tags": []
          }
        }
      ]
    },
    {
      "cell_type": "code",
      "metadata": {
        "id": "KscJmkWtynGf"
      },
      "source": [
        "#Construindo o intervalo interquartil\n",
        "q1 = df.popularidade.quantile(0.25)\n",
        "q3 = df.popularidade.quantile(0.75)\n",
        "\n",
        "iqr = q3 - q1"
      ],
      "execution_count": null,
      "outputs": []
    },
    {
      "cell_type": "code",
      "metadata": {
        "id": "hyD7Wkwzysg1",
        "colab": {
          "base_uri": "https://localhost:8080/"
        },
        "outputId": "a720ccb9-b5f7-44da-b702-3e69fc0cc5d6"
      },
      "source": [
        "#Limite inferior [Q1−1.5×IQR]\n",
        "out_low = q1 - 1.5 * iqr \n",
        "out_low\n",
        "\n",
        "#Limite superior [Q3+1.5×IQR]\n",
        "out_high = q3 + 1.5 * iqr \n",
        "out_high\n",
        "\n",
        "print(f'''Limite ou intervalo inferior: {out_low} \n",
        "Limite ou intervalo superior: {out_high}''')"
      ],
      "execution_count": null,
      "outputs": [
        {
          "output_type": "stream",
          "text": [
            "Limite ou intervalo inferior: 11.0 \n",
            "Limite ou intervalo superior: 67.0\n"
          ],
          "name": "stdout"
        }
      ]
    },
    {
      "cell_type": "code",
      "metadata": {
        "id": "aTY1xm2Fyyiq",
        "colab": {
          "base_uri": "https://localhost:8080/"
        },
        "outputId": "f4aef2a3-6a2d-4818-ea34-d510913a9c29"
      },
      "source": [
        "#Identificando os outliers presentes\n",
        "outliers = df.popularidade[(df.popularidade < out_low) | (df.popularidade > out_high)]\n",
        "outliers"
      ],
      "execution_count": null,
      "outputs": [
        {
          "output_type": "execute_result",
          "data": {
            "text/plain": [
              "22     0\n",
              "76    69\n",
              "Name: popularidade, dtype: int64"
            ]
          },
          "metadata": {
            "tags": []
          },
          "execution_count": 17
        }
      ]
    },
    {
      "cell_type": "code",
      "metadata": {
        "id": "T_JPZxway3nU",
        "colab": {
          "base_uri": "https://localhost:8080/",
          "height": 80
        },
        "outputId": "67e9d50c-67e3-488d-bebb-97ccbce96f26"
      },
      "source": [
        "#Quem são os outliers? \n",
        "df.query(\"index == '0'\")"
      ],
      "execution_count": null,
      "outputs": [
        {
          "output_type": "execute_result",
          "data": {
            "text/html": [
              "<div>\n",
              "<style scoped>\n",
              "    .dataframe tbody tr th:only-of-type {\n",
              "        vertical-align: middle;\n",
              "    }\n",
              "\n",
              "    .dataframe tbody tr th {\n",
              "        vertical-align: top;\n",
              "    }\n",
              "\n",
              "    .dataframe thead th {\n",
              "        text-align: right;\n",
              "    }\n",
              "</style>\n",
              "<table border=\"1\" class=\"dataframe\">\n",
              "  <thead>\n",
              "    <tr style=\"text-align: right;\">\n",
              "      <th></th>\n",
              "      <th>nome_do_album</th>\n",
              "      <th>posicao_da_faixa</th>\n",
              "      <th>nome_da_faixa</th>\n",
              "      <th>popularidade</th>\n",
              "    </tr>\n",
              "  </thead>\n",
              "  <tbody>\n",
              "    <tr>\n",
              "      <th>0</th>\n",
              "      <td>MTV Unplugged</td>\n",
              "      <td>1</td>\n",
              "      <td>Oceans - Live MTV Unplugged</td>\n",
              "      <td>55</td>\n",
              "    </tr>\n",
              "  </tbody>\n",
              "</table>\n",
              "</div>"
            ],
            "text/plain": [
              "   nome_do_album  posicao_da_faixa                nome_da_faixa  popularidade\n",
              "0  MTV Unplugged                 1  Oceans - Live MTV Unplugged            55"
            ]
          },
          "metadata": {
            "tags": []
          },
          "execution_count": 18
        }
      ]
    },
    {
      "cell_type": "code",
      "metadata": {
        "id": "G1xnM2Lvy-Yp",
        "colab": {
          "base_uri": "https://localhost:8080/",
          "height": 80
        },
        "outputId": "5e2175f3-a190-4c00-82b0-de905d31e6c3"
      },
      "source": [
        "#Quem são os outliers? \n",
        "df.query(\"index == '69'\")"
      ],
      "execution_count": null,
      "outputs": [
        {
          "output_type": "execute_result",
          "data": {
            "text/html": [
              "<div>\n",
              "<style scoped>\n",
              "    .dataframe tbody tr th:only-of-type {\n",
              "        vertical-align: middle;\n",
              "    }\n",
              "\n",
              "    .dataframe tbody tr th {\n",
              "        vertical-align: top;\n",
              "    }\n",
              "\n",
              "    .dataframe thead th {\n",
              "        text-align: right;\n",
              "    }\n",
              "</style>\n",
              "<table border=\"1\" class=\"dataframe\">\n",
              "  <thead>\n",
              "    <tr style=\"text-align: right;\">\n",
              "      <th></th>\n",
              "      <th>nome_do_album</th>\n",
              "      <th>posicao_da_faixa</th>\n",
              "      <th>nome_da_faixa</th>\n",
              "      <th>popularidade</th>\n",
              "    </tr>\n",
              "  </thead>\n",
              "  <tbody>\n",
              "    <tr>\n",
              "      <th>69</th>\n",
              "      <td>Lightning Bolt</td>\n",
              "      <td>10</td>\n",
              "      <td>Sleeping By Myself</td>\n",
              "      <td>41</td>\n",
              "    </tr>\n",
              "  </tbody>\n",
              "</table>\n",
              "</div>"
            ],
            "text/plain": [
              "     nome_do_album  posicao_da_faixa       nome_da_faixa  popularidade\n",
              "69  Lightning Bolt                10  Sleeping By Myself            41"
            ]
          },
          "metadata": {
            "tags": []
          },
          "execution_count": 19
        }
      ]
    },
    {
      "cell_type": "markdown",
      "metadata": {
        "id": "svFpQ73ga7MW"
      },
      "source": [
        "##Definindo os álbuns"
      ]
    },
    {
      "cell_type": "code",
      "metadata": {
        "id": "RQlSDzefVk_Z"
      },
      "source": [
        "#Albúm Live MTV Unplugged 1992\n",
        "MTV_UNPLUGGED = df.query(\"nome_do_album == 'MTV Unplugged' \")"
      ],
      "execution_count": null,
      "outputs": []
    },
    {
      "cell_type": "code",
      "metadata": {
        "id": "bMi8PdjpV3bc"
      },
      "source": [
        "#Albúm Riot Act 2002\n",
        "RIOT_ACT = df.query(\"nome_do_album == 'Riot Act' \")"
      ],
      "execution_count": null,
      "outputs": []
    },
    {
      "cell_type": "code",
      "metadata": {
        "id": "AXHiAMQiWIM9"
      },
      "source": [
        "#Albúm Pearl Jam 2006\n",
        "PEARL_JAM = df.query(\"nome_do_album == 'Pearl Jam' \")"
      ],
      "execution_count": null,
      "outputs": []
    },
    {
      "cell_type": "code",
      "metadata": {
        "id": "PijW9jA0WWlB"
      },
      "source": [
        "#Albúm Gigaton 2020\n",
        "GIGATON = df.query(\"nome_do_album == 'Gigaton' \")"
      ],
      "execution_count": null,
      "outputs": []
    },
    {
      "cell_type": "code",
      "metadata": {
        "id": "9MA9VlmxWpM-"
      },
      "source": [
        "#Albúm Vault 9: Live in Seattle 12/8/93 \n",
        "VAULT_9 = df.query(\"nome_do_album == 'Vault 9: Live in Seattle 12/8/93' \")"
      ],
      "execution_count": null,
      "outputs": []
    },
    {
      "cell_type": "code",
      "metadata": {
        "id": "WILZ4NtbW7nR"
      },
      "source": [
        "#Albúm Let's Play Two 2017\n",
        "LETS_PLAY = df.query(\"nome_do_album == 'Lets Play Two Live Original Motion Picture Soundtrack' \")"
      ],
      "execution_count": null,
      "outputs": []
    },
    {
      "cell_type": "code",
      "metadata": {
        "id": "_9WLyLCqYRGA"
      },
      "source": [
        "#Albúm Lightning Bolt 2013\n",
        "LIGHTNING_BOLT = df.query(\"nome_do_album == 'Lightning Bolt' \")"
      ],
      "execution_count": null,
      "outputs": []
    },
    {
      "cell_type": "code",
      "metadata": {
        "id": "tGk_5Q0PYbIh"
      },
      "source": [
        "#Albúm Backspacer 2009\n",
        "BACKSPACER = df.query(\"nome_do_album == 'Backspacer' \")"
      ],
      "execution_count": null,
      "outputs": []
    },
    {
      "cell_type": "code",
      "metadata": {
        "id": "nggC7fdHYolr"
      },
      "source": [
        "#Albúm Pearl Jam (2017 Mix) 2006\n",
        "PJ_2017 = df.query(\"nome_do_album == 'Pearl Jam (2017 Mix)' \")"
      ],
      "execution_count": null,
      "outputs": []
    },
    {
      "cell_type": "code",
      "metadata": {
        "id": "_bsIr72dbDa-",
        "colab": {
          "base_uri": "https://localhost:8080/"
        },
        "outputId": "b9d0a51e-ec9c-419e-8c53-cbdc8ed3b4ac"
      },
      "source": [
        "#Total de músicas\n",
        "print(f'Total de músicas: {df[\"nome_da_faixa\"].count()} músicas')"
      ],
      "execution_count": null,
      "outputs": [
        {
          "output_type": "stream",
          "text": [
            "Total de músicas: 125 músicas\n"
          ],
          "name": "stdout"
        }
      ]
    },
    {
      "cell_type": "code",
      "metadata": {
        "id": "AA3rMrgMbKhN",
        "colab": {
          "base_uri": "https://localhost:8080/"
        },
        "outputId": "e9810a8e-94ca-473d-fc4f-11bbd0a67284"
      },
      "source": [
        "#Quantidade de músicas do albúm\n",
        "print(f'O albúm tem: {GIGATON[\"nome_da_faixa\"].count()} faixas')"
      ],
      "execution_count": null,
      "outputs": [
        {
          "output_type": "stream",
          "text": [
            "O albúm tem: 12 faixas\n"
          ],
          "name": "stdout"
        }
      ]
    },
    {
      "cell_type": "code",
      "metadata": {
        "id": "exMUv-Y5bXch",
        "colab": {
          "base_uri": "https://localhost:8080/"
        },
        "outputId": "b7ee54d8-fb50-43ab-c707-a608bcb0c46a"
      },
      "source": [
        "#Músicas do albúm\n",
        "\n",
        "GIGATON[['posicao_da_faixa', 'nome_da_faixa']].reset_index(drop=True)"
      ],
      "execution_count": null,
      "outputs": [
        {
          "output_type": "execute_result",
          "data": {
            "text/html": [
              "<div>\n",
              "<style scoped>\n",
              "    .dataframe tbody tr th:only-of-type {\n",
              "        vertical-align: middle;\n",
              "    }\n",
              "\n",
              "    .dataframe tbody tr th {\n",
              "        vertical-align: top;\n",
              "    }\n",
              "\n",
              "    .dataframe thead th {\n",
              "        text-align: right;\n",
              "    }\n",
              "</style>\n",
              "<table border=\"1\" class=\"dataframe\">\n",
              "  <thead>\n",
              "    <tr style=\"text-align: right;\">\n",
              "      <th></th>\n",
              "      <th>posicao_da_faixa</th>\n",
              "      <th>nome_da_faixa</th>\n",
              "    </tr>\n",
              "  </thead>\n",
              "  <tbody>\n",
              "    <tr>\n",
              "      <th>0</th>\n",
              "      <td>1</td>\n",
              "      <td>Who Ever Said</td>\n",
              "    </tr>\n",
              "    <tr>\n",
              "      <th>1</th>\n",
              "      <td>2</td>\n",
              "      <td>Superblood Wolfmoon</td>\n",
              "    </tr>\n",
              "    <tr>\n",
              "      <th>2</th>\n",
              "      <td>3</td>\n",
              "      <td>Dance Of The Clairvoyants</td>\n",
              "    </tr>\n",
              "    <tr>\n",
              "      <th>3</th>\n",
              "      <td>4</td>\n",
              "      <td>Quick Escape</td>\n",
              "    </tr>\n",
              "    <tr>\n",
              "      <th>4</th>\n",
              "      <td>5</td>\n",
              "      <td>Alright</td>\n",
              "    </tr>\n",
              "    <tr>\n",
              "      <th>5</th>\n",
              "      <td>6</td>\n",
              "      <td>Seven O'Clock</td>\n",
              "    </tr>\n",
              "    <tr>\n",
              "      <th>6</th>\n",
              "      <td>7</td>\n",
              "      <td>Never Destination</td>\n",
              "    </tr>\n",
              "    <tr>\n",
              "      <th>7</th>\n",
              "      <td>8</td>\n",
              "      <td>Take The Long Way</td>\n",
              "    </tr>\n",
              "    <tr>\n",
              "      <th>8</th>\n",
              "      <td>9</td>\n",
              "      <td>Buckle Up</td>\n",
              "    </tr>\n",
              "    <tr>\n",
              "      <th>9</th>\n",
              "      <td>10</td>\n",
              "      <td>Comes Then Goes</td>\n",
              "    </tr>\n",
              "    <tr>\n",
              "      <th>10</th>\n",
              "      <td>11</td>\n",
              "      <td>Retrograde</td>\n",
              "    </tr>\n",
              "    <tr>\n",
              "      <th>11</th>\n",
              "      <td>12</td>\n",
              "      <td>River Cross</td>\n",
              "    </tr>\n",
              "  </tbody>\n",
              "</table>\n",
              "</div>"
            ],
            "text/plain": [
              "    posicao_da_faixa              nome_da_faixa\n",
              "0                  1              Who Ever Said\n",
              "1                  2        Superblood Wolfmoon\n",
              "2                  3  Dance Of The Clairvoyants\n",
              "3                  4               Quick Escape\n",
              "4                  5                    Alright\n",
              "5                  6              Seven O'Clock\n",
              "6                  7          Never Destination\n",
              "7                  8          Take The Long Way\n",
              "8                  9                  Buckle Up\n",
              "9                 10            Comes Then Goes\n",
              "10                11                 Retrograde\n",
              "11                12                River Cross"
            ]
          },
          "metadata": {
            "tags": []
          },
          "execution_count": 35
        }
      ]
    },
    {
      "cell_type": "code",
      "metadata": {
        "id": "vy9_wZCxbqP3",
        "colab": {
          "base_uri": "https://localhost:8080/"
        },
        "outputId": "fa6a7f99-c245-4e41-d61f-9b63eb30094d"
      },
      "source": [
        "#Gráfico da popularidade das músicas do albúm BACKSPACER\n",
        "\n",
        "plt.figure(figsize=(20,6))\n",
        "ax = sns.lineplot(x='nome_da_faixa', y='popularidade', data=GIGATON);\n",
        "ax.set_title('Popularidade das faixas albúm GIGATON', size=13);\n",
        "ax.set_xlabel('Nome da faixa', size=13);\n",
        "ax.set_ylabel('Popularidade', size=13);"
      ],
      "execution_count": null,
      "outputs": [
        {
          "output_type": "display_data",
          "data": {
            "image/png": "[encoded data removed]",
            "text/plain": [
              "<Figure size 1440x432 with 1 Axes>"
            ]
          },
          "metadata": {
            "tags": []
          }
        }
      ]
    },
    {
      "cell_type": "code",
      "metadata": {
        "id": "l5uf8A5Ecbas",
        "colab": {
          "base_uri": "https://localhost:8080/"
        },
        "outputId": "12fac630-348a-4132-acc8-43c6f1f50661"
      },
      "source": [
        "#Gráfico da popularidade das músicas do albúm MTV\n",
        "\n",
        "plt.figure(figsize=(26,6))\n",
        "ax = sns.lineplot(x='nome_da_faixa', y='popularidade', data=MTV_UNPLUGGED);\n",
        "ax.set_title('Popularidade das faixas albúm MTV', size=13);\n",
        "ax.set_xlabel('Nome da faixa', size=13);\n",
        "ax.set_ylabel('Popularidade', size=13);"
      ],
      "execution_count": null,
      "outputs": [
        {
          "output_type": "display_data",
          "data": {
            "image/png": "[encoded data removed]",
            "text/plain": [
              "<Figure size 1872x432 with 1 Axes>"
            ]
          },
          "metadata": {
            "tags": []
          }
        }
      ]
    },
    {
      "cell_type": "markdown",
      "metadata": {
        "id": "JbO6Xf1uc6Sf"
      },
      "source": [
        "##Músicas mais populares do PJ no momento"
      ]
    },
    {
      "cell_type": "code",
      "metadata": {
        "id": "yvSF0qxYdDQx",
        "colab": {
          "base_uri": "https://localhost:8080/",
          "height": 359
        },
        "outputId": "501f487f-eb2d-4782-a1aa-1a384c7c5a02"
      },
      "source": [
        "#Músicas com maior popularidade no momento (Data: 05/11/20)\n",
        "df[['nome_da_faixa', 'popularidade']].sort_values(ascending=False, by='popularidade').reset_index(drop=True).head(10)"
      ],
      "execution_count": null,
      "outputs": [
        {
          "output_type": "execute_result",
          "data": {
            "text/html": [
              "<div>\n",
              "<style scoped>\n",
              "    .dataframe tbody tr th:only-of-type {\n",
              "        vertical-align: middle;\n",
              "    }\n",
              "\n",
              "    .dataframe tbody tr th {\n",
              "        vertical-align: top;\n",
              "    }\n",
              "\n",
              "    .dataframe thead th {\n",
              "        text-align: right;\n",
              "    }\n",
              "</style>\n",
              "<table border=\"1\" class=\"dataframe\">\n",
              "  <thead>\n",
              "    <tr style=\"text-align: right;\">\n",
              "      <th></th>\n",
              "      <th>nome_da_faixa</th>\n",
              "      <th>popularidade</th>\n",
              "    </tr>\n",
              "  </thead>\n",
              "  <tbody>\n",
              "    <tr>\n",
              "      <th>0</th>\n",
              "      <td>Just Breathe</td>\n",
              "      <td>69</td>\n",
              "    </tr>\n",
              "    <tr>\n",
              "      <th>1</th>\n",
              "      <td>Sirens</td>\n",
              "      <td>63</td>\n",
              "    </tr>\n",
              "    <tr>\n",
              "      <th>2</th>\n",
              "      <td>Black - Live MTV Unplugged</td>\n",
              "      <td>62</td>\n",
              "    </tr>\n",
              "    <tr>\n",
              "      <th>3</th>\n",
              "      <td>I Am Mine</td>\n",
              "      <td>59</td>\n",
              "    </tr>\n",
              "    <tr>\n",
              "      <th>4</th>\n",
              "      <td>Future Days</td>\n",
              "      <td>59</td>\n",
              "    </tr>\n",
              "    <tr>\n",
              "      <th>5</th>\n",
              "      <td>The Fixer</td>\n",
              "      <td>56</td>\n",
              "    </tr>\n",
              "    <tr>\n",
              "      <th>6</th>\n",
              "      <td>Retrograde</td>\n",
              "      <td>56</td>\n",
              "    </tr>\n",
              "    <tr>\n",
              "      <th>7</th>\n",
              "      <td>Come Back</td>\n",
              "      <td>56</td>\n",
              "    </tr>\n",
              "    <tr>\n",
              "      <th>8</th>\n",
              "      <td>State of Love And Trust - Live MTV Unplugged</td>\n",
              "      <td>55</td>\n",
              "    </tr>\n",
              "    <tr>\n",
              "      <th>9</th>\n",
              "      <td>Even Flow - Live MTV Unplugged</td>\n",
              "      <td>55</td>\n",
              "    </tr>\n",
              "  </tbody>\n",
              "</table>\n",
              "</div>"
            ],
            "text/plain": [
              "                                  nome_da_faixa  popularidade\n",
              "0                                  Just Breathe            69\n",
              "1                                        Sirens            63\n",
              "2                    Black - Live MTV Unplugged            62\n",
              "3                                     I Am Mine            59\n",
              "4                                   Future Days            59\n",
              "5                                     The Fixer            56\n",
              "6                                    Retrograde            56\n",
              "7                                     Come Back            56\n",
              "8  State of Love And Trust - Live MTV Unplugged            55\n",
              "9                Even Flow - Live MTV Unplugged            55"
            ]
          },
          "metadata": {
            "tags": []
          },
          "execution_count": 20
        }
      ]
    },
    {
      "cell_type": "code",
      "metadata": {
        "id": "utVh8fLOdVUk"
      },
      "source": [
        "#Retornar as 10 músicas que estão popular e transformar em uma variavel para construir o gráfico\n",
        "musicas_populares = df[['nome_da_faixa', 'popularidade']].sort_values(ascending=False, by='popularidade').reset_index(drop=True)[:20]"
      ],
      "execution_count": null,
      "outputs": []
    },
    {
      "cell_type": "code",
      "metadata": {
        "id": "9cymCOSwdVTA",
        "colab": {
          "base_uri": "https://localhost:8080/",
          "height": 708
        },
        "outputId": "466389c1-08f8-4e3e-d11e-ed4f0cb400f9"
      },
      "source": [
        "\n",
        "#Plotar gráfico de barras com seaborn das músicas que estão popular\n",
        "plt.figure(figsize=(20,8))\n",
        "ax = sns.barplot(x= 'nome_da_faixa', \n",
        "                 y = 'popularidade', \n",
        "                 data = musicas_populares, \n",
        "                 palette = sns.color_palette(\"hls\", n_colors=len(musicas_populares)))\n",
        "ax.set_xticklabels(ax.get_xticklabels(), rotation=65)\n",
        "ax.set_title('Músicas do PJ com maior popularidade no momento');"
      ],
      "execution_count": null,
      "outputs": [
        {
          "output_type": "display_data",
          "data": {
            "image/png": "[encoded data removed]",
            "text/plain": [
              "<Figure size 1440x576 with 1 Axes>"
            ]
          },
          "metadata": {
            "tags": []
          }
        }
      ]
    },
    {
      "cell_type": "markdown",
      "metadata": {
        "id": "0-U1yPmQedtt"
      },
      "source": [
        "##Verificando se a popularidade das faixas tem relação com sua posição"
      ]
    },
    {
      "cell_type": "code",
      "metadata": {
        "id": "4csWWrNPd3Vo",
        "colab": {
          "base_uri": "https://localhost:8080/",
          "height": 421
        },
        "outputId": "720af05f-c13d-4f28-f01c-afd2f1f40b56"
      },
      "source": [
        "#Popularidade e posição das músicas do albúm BACKSPACER\n",
        "BACKSPACER[['nome_da_faixa', 'posicao_da_faixa', 'popularidade']].sort_values(ascending=False, by='popularidade').reset_index(drop=True)"
      ],
      "execution_count": null,
      "outputs": [
        {
          "output_type": "execute_result",
          "data": {
            "text/html": [
              "<div>\n",
              "<style scoped>\n",
              "    .dataframe tbody tr th:only-of-type {\n",
              "        vertical-align: middle;\n",
              "    }\n",
              "\n",
              "    .dataframe tbody tr th {\n",
              "        vertical-align: top;\n",
              "    }\n",
              "\n",
              "    .dataframe thead th {\n",
              "        text-align: right;\n",
              "    }\n",
              "</style>\n",
              "<table border=\"1\" class=\"dataframe\">\n",
              "  <thead>\n",
              "    <tr style=\"text-align: right;\">\n",
              "      <th></th>\n",
              "      <th>nome_da_faixa</th>\n",
              "      <th>posicao_da_faixa</th>\n",
              "      <th>popularidade</th>\n",
              "    </tr>\n",
              "  </thead>\n",
              "  <tbody>\n",
              "    <tr>\n",
              "      <th>0</th>\n",
              "      <td>Just Breathe</td>\n",
              "      <td>5</td>\n",
              "      <td>69</td>\n",
              "    </tr>\n",
              "    <tr>\n",
              "      <th>1</th>\n",
              "      <td>The Fixer</td>\n",
              "      <td>3</td>\n",
              "      <td>56</td>\n",
              "    </tr>\n",
              "    <tr>\n",
              "      <th>2</th>\n",
              "      <td>Unthought Known</td>\n",
              "      <td>7</td>\n",
              "      <td>51</td>\n",
              "    </tr>\n",
              "    <tr>\n",
              "      <th>3</th>\n",
              "      <td>The End</td>\n",
              "      <td>11</td>\n",
              "      <td>51</td>\n",
              "    </tr>\n",
              "    <tr>\n",
              "      <th>4</th>\n",
              "      <td>Amongst The Waves</td>\n",
              "      <td>6</td>\n",
              "      <td>49</td>\n",
              "    </tr>\n",
              "    <tr>\n",
              "      <th>5</th>\n",
              "      <td>Got Some</td>\n",
              "      <td>2</td>\n",
              "      <td>39</td>\n",
              "    </tr>\n",
              "    <tr>\n",
              "      <th>6</th>\n",
              "      <td>Force Of Nature</td>\n",
              "      <td>10</td>\n",
              "      <td>39</td>\n",
              "    </tr>\n",
              "    <tr>\n",
              "      <th>7</th>\n",
              "      <td>Speed Of Sound</td>\n",
              "      <td>9</td>\n",
              "      <td>38</td>\n",
              "    </tr>\n",
              "    <tr>\n",
              "      <th>8</th>\n",
              "      <td>Gonna See My Friend</td>\n",
              "      <td>1</td>\n",
              "      <td>37</td>\n",
              "    </tr>\n",
              "    <tr>\n",
              "      <th>9</th>\n",
              "      <td>Johnny Guitar</td>\n",
              "      <td>4</td>\n",
              "      <td>37</td>\n",
              "    </tr>\n",
              "    <tr>\n",
              "      <th>10</th>\n",
              "      <td>Supersonic</td>\n",
              "      <td>8</td>\n",
              "      <td>37</td>\n",
              "    </tr>\n",
              "    <tr>\n",
              "      <th>11</th>\n",
              "      <td>Better Man - Live</td>\n",
              "      <td>12</td>\n",
              "      <td>37</td>\n",
              "    </tr>\n",
              "  </tbody>\n",
              "</table>\n",
              "</div>"
            ],
            "text/plain": [
              "          nome_da_faixa  posicao_da_faixa  popularidade\n",
              "0          Just Breathe                 5            69\n",
              "1             The Fixer                 3            56\n",
              "2       Unthought Known                 7            51\n",
              "3               The End                11            51\n",
              "4     Amongst The Waves                 6            49\n",
              "5              Got Some                 2            39\n",
              "6       Force Of Nature                10            39\n",
              "7        Speed Of Sound                 9            38\n",
              "8   Gonna See My Friend                 1            37\n",
              "9         Johnny Guitar                 4            37\n",
              "10           Supersonic                 8            37\n",
              "11    Better Man - Live                12            37"
            ]
          },
          "metadata": {
            "tags": []
          },
          "execution_count": 38
        }
      ]
    },
    {
      "cell_type": "code",
      "metadata": {
        "id": "7wgrGfE8ehbV",
        "colab": {
          "base_uri": "https://localhost:8080/",
          "height": 320
        },
        "outputId": "840bcc93-2b23-4657-a125-25be93e23c36"
      },
      "source": [
        "#Gráfico comparativo da posição da música em relação á sua popularidade\n",
        "dados = BACKSPACER[['posicao_da_faixa','popularidade']]\n",
        "\n",
        "fig, ax = plt.subplots(figsize = (15,5))\n",
        "dados.plot(kind='line', marker='o', ax=ax)\n",
        "plt.show()"
      ],
      "execution_count": null,
      "outputs": [
        {
          "output_type": "display_data",
          "data": {
            "image/png": "[encoded data removed]",
            "text/plain": [
              "<Figure size 1080x360 with 1 Axes>"
            ]
          },
          "metadata": {
            "tags": []
          }
        }
      ]
    },
    {
      "cell_type": "markdown",
      "metadata": {
        "id": "CyafKDqnfXvu"
      },
      "source": [
        "##Correlação (Estatística Multivariada) coeficiente de Spearman"
      ]
    },
    {
      "cell_type": "code",
      "metadata": {
        "id": "BeehnV1MfnMU",
        "colab": {
          "base_uri": "https://localhost:8080/",
          "height": 111
        },
        "outputId": "40a08077-3931-4942-9fcd-d9814348e018"
      },
      "source": [
        "#Correlação com Spearman\n",
        "df[['posicao_da_faixa', 'popularidade']].corr(method='spearman')"
      ],
      "execution_count": null,
      "outputs": [
        {
          "output_type": "execute_result",
          "data": {
            "text/html": [
              "<div>\n",
              "<style scoped>\n",
              "    .dataframe tbody tr th:only-of-type {\n",
              "        vertical-align: middle;\n",
              "    }\n",
              "\n",
              "    .dataframe tbody tr th {\n",
              "        vertical-align: top;\n",
              "    }\n",
              "\n",
              "    .dataframe thead th {\n",
              "        text-align: right;\n",
              "    }\n",
              "</style>\n",
              "<table border=\"1\" class=\"dataframe\">\n",
              "  <thead>\n",
              "    <tr style=\"text-align: right;\">\n",
              "      <th></th>\n",
              "      <th>posicao_da_faixa</th>\n",
              "      <th>popularidade</th>\n",
              "    </tr>\n",
              "  </thead>\n",
              "  <tbody>\n",
              "    <tr>\n",
              "      <th>posicao_da_faixa</th>\n",
              "      <td>1.000000</td>\n",
              "      <td>-0.365192</td>\n",
              "    </tr>\n",
              "    <tr>\n",
              "      <th>popularidade</th>\n",
              "      <td>-0.365192</td>\n",
              "      <td>1.000000</td>\n",
              "    </tr>\n",
              "  </tbody>\n",
              "</table>\n",
              "</div>"
            ],
            "text/plain": [
              "                  posicao_da_faixa  popularidade\n",
              "posicao_da_faixa          1.000000     -0.365192\n",
              "popularidade             -0.365192      1.000000"
            ]
          },
          "metadata": {
            "tags": []
          },
          "execution_count": 40
        }
      ]
    },
    {
      "cell_type": "code",
      "metadata": {
        "id": "Jt1zKXpxfy8v",
        "colab": {
          "base_uri": "https://localhost:8080/"
        },
        "outputId": "2f24d148-de40-4e96-a0d3-772a84cd406c"
      },
      "source": [
        "#Resumo estatístico com Describe\n",
        "df['popularidade'].describe()"
      ],
      "execution_count": null,
      "outputs": [
        {
          "output_type": "execute_result",
          "data": {
            "text/plain": [
              "count    125.000000\n",
              "mean      38.352000\n",
              "std       10.479054\n",
              "min        0.000000\n",
              "25%       32.000000\n",
              "50%       37.000000\n",
              "75%       46.000000\n",
              "max       69.000000\n",
              "Name: popularidade, dtype: float64"
            ]
          },
          "metadata": {
            "tags": []
          },
          "execution_count": 41
        }
      ]
    },
    {
      "cell_type": "code",
      "metadata": {
        "id": "XAqVCBEHf88L",
        "colab": {
          "base_uri": "https://localhost:8080/",
          "height": 328
        },
        "outputId": "afbe26e9-1ab2-4ccd-f4ca-41adba1f3491"
      },
      "source": [
        "#Média da popularidade por álbum\n",
        "media_popularidade = df.groupby('nome_do_album')['popularidade'].mean().reset_index().sort_values(ascending=False, by='popularidade')\n",
        "media_popularidade"
      ],
      "execution_count": null,
      "outputs": [
        {
          "output_type": "execute_result",
          "data": {
            "text/html": [
              "<div>\n",
              "<style scoped>\n",
              "    .dataframe tbody tr th:only-of-type {\n",
              "        vertical-align: middle;\n",
              "    }\n",
              "\n",
              "    .dataframe tbody tr th {\n",
              "        vertical-align: top;\n",
              "    }\n",
              "\n",
              "    .dataframe thead th {\n",
              "        text-align: right;\n",
              "    }\n",
              "</style>\n",
              "<table border=\"1\" class=\"dataframe\">\n",
              "  <thead>\n",
              "    <tr style=\"text-align: right;\">\n",
              "      <th></th>\n",
              "      <th>nome_do_album</th>\n",
              "      <th>popularidade</th>\n",
              "    </tr>\n",
              "  </thead>\n",
              "  <tbody>\n",
              "    <tr>\n",
              "      <th>4</th>\n",
              "      <td>MTV Unplugged</td>\n",
              "      <td>55.571429</td>\n",
              "    </tr>\n",
              "    <tr>\n",
              "      <th>1</th>\n",
              "      <td>Gigaton</td>\n",
              "      <td>48.000000</td>\n",
              "    </tr>\n",
              "    <tr>\n",
              "      <th>3</th>\n",
              "      <td>Lightning Bolt</td>\n",
              "      <td>45.250000</td>\n",
              "    </tr>\n",
              "    <tr>\n",
              "      <th>0</th>\n",
              "      <td>Backspacer</td>\n",
              "      <td>45.000000</td>\n",
              "    </tr>\n",
              "    <tr>\n",
              "      <th>5</th>\n",
              "      <td>Pearl Jam</td>\n",
              "      <td>38.307692</td>\n",
              "    </tr>\n",
              "    <tr>\n",
              "      <th>7</th>\n",
              "      <td>Riot Act</td>\n",
              "      <td>36.533333</td>\n",
              "    </tr>\n",
              "    <tr>\n",
              "      <th>2</th>\n",
              "      <td>Lets Play Two Live Original Motion Picture Sou...</td>\n",
              "      <td>36.176471</td>\n",
              "    </tr>\n",
              "    <tr>\n",
              "      <th>8</th>\n",
              "      <td>Vault 9: Live in Seattle 12/8/93</td>\n",
              "      <td>31.666667</td>\n",
              "    </tr>\n",
              "    <tr>\n",
              "      <th>6</th>\n",
              "      <td>Pearl Jam (2017 Mix)</td>\n",
              "      <td>25.000000</td>\n",
              "    </tr>\n",
              "  </tbody>\n",
              "</table>\n",
              "</div>"
            ],
            "text/plain": [
              "                                       nome_do_album  popularidade\n",
              "4                                      MTV Unplugged     55.571429\n",
              "1                                            Gigaton     48.000000\n",
              "3                                     Lightning Bolt     45.250000\n",
              "0                                         Backspacer     45.000000\n",
              "5                                          Pearl Jam     38.307692\n",
              "7                                           Riot Act     36.533333\n",
              "2  Lets Play Two Live Original Motion Picture Sou...     36.176471\n",
              "8                   Vault 9: Live in Seattle 12/8/93     31.666667\n",
              "6                               Pearl Jam (2017 Mix)     25.000000"
            ]
          },
          "metadata": {
            "tags": []
          },
          "execution_count": 49
        }
      ]
    },
    {
      "cell_type": "code",
      "metadata": {
        "id": "V4ze5XK4gcLT"
      },
      "source": [
        "#Nova coluna de acordo com o valor da média da popularidaded\n",
        "df['frequencia_de_popularidade_das_musicas'] = ['Acima da média' if x > 38 else 'Abaixo da média' for x in df['popularidade']]"
      ],
      "execution_count": null,
      "outputs": []
    },
    {
      "cell_type": "code",
      "metadata": {
        "id": "Usi_aABe2gVj",
        "colab": {
          "base_uri": "https://localhost:8080/"
        },
        "outputId": "b2337df5-fea2-4860-8690-72188365e845"
      },
      "source": [
        "#Quantidade de músicas que estão acima e abaixo da média\n",
        "df['frequencia_de_popularidade_das_musicas'].value_counts()"
      ],
      "execution_count": null,
      "outputs": [
        {
          "output_type": "execute_result",
          "data": {
            "text/plain": [
              "Abaixo da média    77\n",
              "Acima da média     48\n",
              "Name: frequencia_de_popularidade_das_musicas, dtype: int64"
            ]
          },
          "metadata": {
            "tags": []
          },
          "execution_count": 44
        }
      ]
    },
    {
      "cell_type": "code",
      "metadata": {
        "id": "GrP0tzMd2tHE",
        "colab": {
          "base_uri": "https://localhost:8080/",
          "height": 1000
        },
        "outputId": "cd5dfdb3-5333-489c-86e0-2f276afb5b55"
      },
      "source": [
        "#Músicas que estão acima da média\n",
        "df.query(\"frequencia_de_popularidade_das_musicas == 'Acima da média' \").sort_values(ascending=False, by='popularidade').reset_index()[['nome_do_album', 'nome_da_faixa', 'popularidade', 'frequencia_de_popularidade_das_musicas']]"
      ],
      "execution_count": null,
      "outputs": [
        {
          "output_type": "execute_result",
          "data": {
            "text/html": [
              "<div>\n",
              "<style scoped>\n",
              "    .dataframe tbody tr th:only-of-type {\n",
              "        vertical-align: middle;\n",
              "    }\n",
              "\n",
              "    .dataframe tbody tr th {\n",
              "        vertical-align: top;\n",
              "    }\n",
              "\n",
              "    .dataframe thead th {\n",
              "        text-align: right;\n",
              "    }\n",
              "</style>\n",
              "<table border=\"1\" class=\"dataframe\">\n",
              "  <thead>\n",
              "    <tr style=\"text-align: right;\">\n",
              "      <th></th>\n",
              "      <th>nome_do_album</th>\n",
              "      <th>nome_da_faixa</th>\n",
              "      <th>popularidade</th>\n",
              "      <th>frequencia_de_popularidade_das_musicas</th>\n",
              "    </tr>\n",
              "  </thead>\n",
              "  <tbody>\n",
              "    <tr>\n",
              "      <th>0</th>\n",
              "      <td>Backspacer</td>\n",
              "      <td>Just Breathe</td>\n",
              "      <td>69</td>\n",
              "      <td>Acima da média</td>\n",
              "    </tr>\n",
              "    <tr>\n",
              "      <th>1</th>\n",
              "      <td>Lightning Bolt</td>\n",
              "      <td>Sirens</td>\n",
              "      <td>63</td>\n",
              "      <td>Acima da média</td>\n",
              "    </tr>\n",
              "    <tr>\n",
              "      <th>2</th>\n",
              "      <td>MTV Unplugged</td>\n",
              "      <td>Black - Live MTV Unplugged</td>\n",
              "      <td>62</td>\n",
              "      <td>Acima da média</td>\n",
              "    </tr>\n",
              "    <tr>\n",
              "      <th>3</th>\n",
              "      <td>Riot Act</td>\n",
              "      <td>I Am Mine</td>\n",
              "      <td>59</td>\n",
              "      <td>Acima da média</td>\n",
              "    </tr>\n",
              "    <tr>\n",
              "      <th>4</th>\n",
              "      <td>Lightning Bolt</td>\n",
              "      <td>Future Days</td>\n",
              "      <td>59</td>\n",
              "      <td>Acima da média</td>\n",
              "    </tr>\n",
              "    <tr>\n",
              "      <th>5</th>\n",
              "      <td>Backspacer</td>\n",
              "      <td>The Fixer</td>\n",
              "      <td>56</td>\n",
              "      <td>Acima da média</td>\n",
              "    </tr>\n",
              "    <tr>\n",
              "      <th>6</th>\n",
              "      <td>Gigaton</td>\n",
              "      <td>Retrograde</td>\n",
              "      <td>56</td>\n",
              "      <td>Acima da média</td>\n",
              "    </tr>\n",
              "    <tr>\n",
              "      <th>7</th>\n",
              "      <td>Pearl Jam</td>\n",
              "      <td>Come Back</td>\n",
              "      <td>56</td>\n",
              "      <td>Acima da média</td>\n",
              "    </tr>\n",
              "    <tr>\n",
              "      <th>8</th>\n",
              "      <td>MTV Unplugged</td>\n",
              "      <td>State of Love And Trust - Live MTV Unplugged</td>\n",
              "      <td>55</td>\n",
              "      <td>Acima da média</td>\n",
              "    </tr>\n",
              "    <tr>\n",
              "      <th>9</th>\n",
              "      <td>MTV Unplugged</td>\n",
              "      <td>Oceans - Live MTV Unplugged</td>\n",
              "      <td>55</td>\n",
              "      <td>Acima da média</td>\n",
              "    </tr>\n",
              "    <tr>\n",
              "      <th>10</th>\n",
              "      <td>MTV Unplugged</td>\n",
              "      <td>Even Flow - Live MTV Unplugged</td>\n",
              "      <td>55</td>\n",
              "      <td>Acima da média</td>\n",
              "    </tr>\n",
              "    <tr>\n",
              "      <th>11</th>\n",
              "      <td>MTV Unplugged</td>\n",
              "      <td>Alive - Live MTV Unplugged</td>\n",
              "      <td>55</td>\n",
              "      <td>Acima da média</td>\n",
              "    </tr>\n",
              "    <tr>\n",
              "      <th>12</th>\n",
              "      <td>MTV Unplugged</td>\n",
              "      <td>Jeremy - Live MTV Unplugged</td>\n",
              "      <td>54</td>\n",
              "      <td>Acima da média</td>\n",
              "    </tr>\n",
              "    <tr>\n",
              "      <th>13</th>\n",
              "      <td>Gigaton</td>\n",
              "      <td>Dance Of The Clairvoyants</td>\n",
              "      <td>53</td>\n",
              "      <td>Acima da média</td>\n",
              "    </tr>\n",
              "    <tr>\n",
              "      <th>14</th>\n",
              "      <td>MTV Unplugged</td>\n",
              "      <td>Porch - Live MTV Unplugged</td>\n",
              "      <td>53</td>\n",
              "      <td>Acima da média</td>\n",
              "    </tr>\n",
              "    <tr>\n",
              "      <th>15</th>\n",
              "      <td>Vault 9: Live in Seattle 12/8/93</td>\n",
              "      <td>Even Flow (Live)</td>\n",
              "      <td>52</td>\n",
              "      <td>Acima da média</td>\n",
              "    </tr>\n",
              "    <tr>\n",
              "      <th>16</th>\n",
              "      <td>Gigaton</td>\n",
              "      <td>Superblood Wolfmoon</td>\n",
              "      <td>51</td>\n",
              "      <td>Acima da média</td>\n",
              "    </tr>\n",
              "    <tr>\n",
              "      <th>17</th>\n",
              "      <td>Backspacer</td>\n",
              "      <td>The End</td>\n",
              "      <td>51</td>\n",
              "      <td>Acima da média</td>\n",
              "    </tr>\n",
              "    <tr>\n",
              "      <th>18</th>\n",
              "      <td>Backspacer</td>\n",
              "      <td>Unthought Known</td>\n",
              "      <td>51</td>\n",
              "      <td>Acima da média</td>\n",
              "    </tr>\n",
              "    <tr>\n",
              "      <th>19</th>\n",
              "      <td>Lightning Bolt</td>\n",
              "      <td>Lightning Bolt</td>\n",
              "      <td>50</td>\n",
              "      <td>Acima da média</td>\n",
              "    </tr>\n",
              "    <tr>\n",
              "      <th>20</th>\n",
              "      <td>Lightning Bolt</td>\n",
              "      <td>Getaway</td>\n",
              "      <td>50</td>\n",
              "      <td>Acima da média</td>\n",
              "    </tr>\n",
              "    <tr>\n",
              "      <th>21</th>\n",
              "      <td>Backspacer</td>\n",
              "      <td>Amongst The Waves</td>\n",
              "      <td>49</td>\n",
              "      <td>Acima da média</td>\n",
              "    </tr>\n",
              "    <tr>\n",
              "      <th>22</th>\n",
              "      <td>Gigaton</td>\n",
              "      <td>Who Ever Said</td>\n",
              "      <td>49</td>\n",
              "      <td>Acima da média</td>\n",
              "    </tr>\n",
              "    <tr>\n",
              "      <th>23</th>\n",
              "      <td>Pearl Jam</td>\n",
              "      <td>World Wide Suicide</td>\n",
              "      <td>48</td>\n",
              "      <td>Acima da média</td>\n",
              "    </tr>\n",
              "    <tr>\n",
              "      <th>24</th>\n",
              "      <td>Riot Act</td>\n",
              "      <td>Thumbing My Way</td>\n",
              "      <td>48</td>\n",
              "      <td>Acima da média</td>\n",
              "    </tr>\n",
              "    <tr>\n",
              "      <th>25</th>\n",
              "      <td>Gigaton</td>\n",
              "      <td>Quick Escape</td>\n",
              "      <td>48</td>\n",
              "      <td>Acima da média</td>\n",
              "    </tr>\n",
              "    <tr>\n",
              "      <th>26</th>\n",
              "      <td>Gigaton</td>\n",
              "      <td>Seven O'Clock</td>\n",
              "      <td>48</td>\n",
              "      <td>Acima da média</td>\n",
              "    </tr>\n",
              "    <tr>\n",
              "      <th>27</th>\n",
              "      <td>Riot Act</td>\n",
              "      <td>Save You</td>\n",
              "      <td>47</td>\n",
              "      <td>Acima da média</td>\n",
              "    </tr>\n",
              "    <tr>\n",
              "      <th>28</th>\n",
              "      <td>Gigaton</td>\n",
              "      <td>Alright</td>\n",
              "      <td>47</td>\n",
              "      <td>Acima da média</td>\n",
              "    </tr>\n",
              "    <tr>\n",
              "      <th>29</th>\n",
              "      <td>Pearl Jam</td>\n",
              "      <td>Parachutes</td>\n",
              "      <td>47</td>\n",
              "      <td>Acima da média</td>\n",
              "    </tr>\n",
              "    <tr>\n",
              "      <th>30</th>\n",
              "      <td>Vault 9: Live in Seattle 12/8/93</td>\n",
              "      <td>Daughter (Live)</td>\n",
              "      <td>46</td>\n",
              "      <td>Acima da média</td>\n",
              "    </tr>\n",
              "    <tr>\n",
              "      <th>31</th>\n",
              "      <td>Gigaton</td>\n",
              "      <td>Buckle Up</td>\n",
              "      <td>46</td>\n",
              "      <td>Acima da média</td>\n",
              "    </tr>\n",
              "    <tr>\n",
              "      <th>32</th>\n",
              "      <td>Gigaton</td>\n",
              "      <td>Never Destination</td>\n",
              "      <td>45</td>\n",
              "      <td>Acima da média</td>\n",
              "    </tr>\n",
              "    <tr>\n",
              "      <th>33</th>\n",
              "      <td>Lightning Bolt</td>\n",
              "      <td>Pendulum</td>\n",
              "      <td>45</td>\n",
              "      <td>Acima da média</td>\n",
              "    </tr>\n",
              "    <tr>\n",
              "      <th>34</th>\n",
              "      <td>Gigaton</td>\n",
              "      <td>Comes Then Goes</td>\n",
              "      <td>45</td>\n",
              "      <td>Acima da média</td>\n",
              "    </tr>\n",
              "    <tr>\n",
              "      <th>35</th>\n",
              "      <td>Gigaton</td>\n",
              "      <td>Take The Long Way</td>\n",
              "      <td>44</td>\n",
              "      <td>Acima da média</td>\n",
              "    </tr>\n",
              "    <tr>\n",
              "      <th>36</th>\n",
              "      <td>Lightning Bolt</td>\n",
              "      <td>Mind Your Manners</td>\n",
              "      <td>44</td>\n",
              "      <td>Acima da média</td>\n",
              "    </tr>\n",
              "    <tr>\n",
              "      <th>37</th>\n",
              "      <td>Gigaton</td>\n",
              "      <td>River Cross</td>\n",
              "      <td>44</td>\n",
              "      <td>Acima da média</td>\n",
              "    </tr>\n",
              "    <tr>\n",
              "      <th>38</th>\n",
              "      <td>Lets Play Two Live Original Motion Picture Sou...</td>\n",
              "      <td>Black - Live</td>\n",
              "      <td>42</td>\n",
              "      <td>Acima da média</td>\n",
              "    </tr>\n",
              "    <tr>\n",
              "      <th>39</th>\n",
              "      <td>Lets Play Two Live Original Motion Picture Sou...</td>\n",
              "      <td>Better Man - Live</td>\n",
              "      <td>41</td>\n",
              "      <td>Acima da média</td>\n",
              "    </tr>\n",
              "    <tr>\n",
              "      <th>40</th>\n",
              "      <td>Pearl Jam</td>\n",
              "      <td>Life Wasted</td>\n",
              "      <td>41</td>\n",
              "      <td>Acima da média</td>\n",
              "    </tr>\n",
              "    <tr>\n",
              "      <th>41</th>\n",
              "      <td>Lightning Bolt</td>\n",
              "      <td>Sleeping By Myself</td>\n",
              "      <td>41</td>\n",
              "      <td>Acima da média</td>\n",
              "    </tr>\n",
              "    <tr>\n",
              "      <th>42</th>\n",
              "      <td>Lightning Bolt</td>\n",
              "      <td>Infallible</td>\n",
              "      <td>40</td>\n",
              "      <td>Acima da média</td>\n",
              "    </tr>\n",
              "    <tr>\n",
              "      <th>43</th>\n",
              "      <td>Backspacer</td>\n",
              "      <td>Force Of Nature</td>\n",
              "      <td>39</td>\n",
              "      <td>Acima da média</td>\n",
              "    </tr>\n",
              "    <tr>\n",
              "      <th>44</th>\n",
              "      <td>Backspacer</td>\n",
              "      <td>Got Some</td>\n",
              "      <td>39</td>\n",
              "      <td>Acima da média</td>\n",
              "    </tr>\n",
              "    <tr>\n",
              "      <th>45</th>\n",
              "      <td>Lightning Bolt</td>\n",
              "      <td>Yellow Moon</td>\n",
              "      <td>39</td>\n",
              "      <td>Acima da média</td>\n",
              "    </tr>\n",
              "    <tr>\n",
              "      <th>46</th>\n",
              "      <td>Pearl Jam</td>\n",
              "      <td>Inside Job</td>\n",
              "      <td>39</td>\n",
              "      <td>Acima da média</td>\n",
              "    </tr>\n",
              "    <tr>\n",
              "      <th>47</th>\n",
              "      <td>Riot Act</td>\n",
              "      <td>Love Boat Captain</td>\n",
              "      <td>39</td>\n",
              "      <td>Acima da média</td>\n",
              "    </tr>\n",
              "  </tbody>\n",
              "</table>\n",
              "</div>"
            ],
            "text/plain": [
              "                                        nome_do_album  ... frequencia_de_popularidade_das_musicas\n",
              "0                                          Backspacer  ...                         Acima da média\n",
              "1                                      Lightning Bolt  ...                         Acima da média\n",
              "2                                       MTV Unplugged  ...                         Acima da média\n",
              "3                                            Riot Act  ...                         Acima da média\n",
              "4                                      Lightning Bolt  ...                         Acima da média\n",
              "5                                          Backspacer  ...                         Acima da média\n",
              "6                                             Gigaton  ...                         Acima da média\n",
              "7                                           Pearl Jam  ...                         Acima da média\n",
              "8                                       MTV Unplugged  ...                         Acima da média\n",
              "9                                       MTV Unplugged  ...                         Acima da média\n",
              "10                                      MTV Unplugged  ...                         Acima da média\n",
              "11                                      MTV Unplugged  ...                         Acima da média\n",
              "12                                      MTV Unplugged  ...                         Acima da média\n",
              "13                                            Gigaton  ...                         Acima da média\n",
              "14                                      MTV Unplugged  ...                         Acima da média\n",
              "15                   Vault 9: Live in Seattle 12/8/93  ...                         Acima da média\n",
              "16                                            Gigaton  ...                         Acima da média\n",
              "17                                         Backspacer  ...                         Acima da média\n",
              "18                                         Backspacer  ...                         Acima da média\n",
              "19                                     Lightning Bolt  ...                         Acima da média\n",
              "20                                     Lightning Bolt  ...                         Acima da média\n",
              "21                                         Backspacer  ...                         Acima da média\n",
              "22                                            Gigaton  ...                         Acima da média\n",
              "23                                          Pearl Jam  ...                         Acima da média\n",
              "24                                           Riot Act  ...                         Acima da média\n",
              "25                                            Gigaton  ...                         Acima da média\n",
              "26                                            Gigaton  ...                         Acima da média\n",
              "27                                           Riot Act  ...                         Acima da média\n",
              "28                                            Gigaton  ...                         Acima da média\n",
              "29                                          Pearl Jam  ...                         Acima da média\n",
              "30                   Vault 9: Live in Seattle 12/8/93  ...                         Acima da média\n",
              "31                                            Gigaton  ...                         Acima da média\n",
              "32                                            Gigaton  ...                         Acima da média\n",
              "33                                     Lightning Bolt  ...                         Acima da média\n",
              "34                                            Gigaton  ...                         Acima da média\n",
              "35                                            Gigaton  ...                         Acima da média\n",
              "36                                     Lightning Bolt  ...                         Acima da média\n",
              "37                                            Gigaton  ...                         Acima da média\n",
              "38  Lets Play Two Live Original Motion Picture Sou...  ...                         Acima da média\n",
              "39  Lets Play Two Live Original Motion Picture Sou...  ...                         Acima da média\n",
              "40                                          Pearl Jam  ...                         Acima da média\n",
              "41                                     Lightning Bolt  ...                         Acima da média\n",
              "42                                     Lightning Bolt  ...                         Acima da média\n",
              "43                                         Backspacer  ...                         Acima da média\n",
              "44                                         Backspacer  ...                         Acima da média\n",
              "45                                     Lightning Bolt  ...                         Acima da média\n",
              "46                                          Pearl Jam  ...                         Acima da média\n",
              "47                                           Riot Act  ...                         Acima da média\n",
              "\n",
              "[48 rows x 4 columns]"
            ]
          },
          "metadata": {
            "tags": []
          },
          "execution_count": 45
        }
      ]
    },
    {
      "cell_type": "code",
      "metadata": {
        "id": "uoqw3NDH3GcB",
        "colab": {
          "base_uri": "https://localhost:8080/",
          "height": 1000
        },
        "outputId": "7fd4aa92-f062-472f-c6fd-e7898e0e7a56"
      },
      "source": [
        "df.query(\"frequencia_de_popularidade_das_musicas == 'Acima da média' & posicao_da_faixa != '1' \").sort_values(ascending=False, by='popularidade').reset_index()[['nome_da_faixa', 'posicao_da_faixa', 'frequencia_de_popularidade_das_musicas']]"
      ],
      "execution_count": null,
      "outputs": [
        {
          "output_type": "execute_result",
          "data": {
            "text/html": [
              "<div>\n",
              "<style scoped>\n",
              "    .dataframe tbody tr th:only-of-type {\n",
              "        vertical-align: middle;\n",
              "    }\n",
              "\n",
              "    .dataframe tbody tr th {\n",
              "        vertical-align: top;\n",
              "    }\n",
              "\n",
              "    .dataframe thead th {\n",
              "        text-align: right;\n",
              "    }\n",
              "</style>\n",
              "<table border=\"1\" class=\"dataframe\">\n",
              "  <thead>\n",
              "    <tr style=\"text-align: right;\">\n",
              "      <th></th>\n",
              "      <th>nome_da_faixa</th>\n",
              "      <th>posicao_da_faixa</th>\n",
              "      <th>frequencia_de_popularidade_das_musicas</th>\n",
              "    </tr>\n",
              "  </thead>\n",
              "  <tbody>\n",
              "    <tr>\n",
              "      <th>0</th>\n",
              "      <td>Just Breathe</td>\n",
              "      <td>5</td>\n",
              "      <td>Acima da média</td>\n",
              "    </tr>\n",
              "    <tr>\n",
              "      <th>1</th>\n",
              "      <td>Sirens</td>\n",
              "      <td>4</td>\n",
              "      <td>Acima da média</td>\n",
              "    </tr>\n",
              "    <tr>\n",
              "      <th>2</th>\n",
              "      <td>Black - Live MTV Unplugged</td>\n",
              "      <td>4</td>\n",
              "      <td>Acima da média</td>\n",
              "    </tr>\n",
              "    <tr>\n",
              "      <th>3</th>\n",
              "      <td>I Am Mine</td>\n",
              "      <td>6</td>\n",
              "      <td>Acima da média</td>\n",
              "    </tr>\n",
              "    <tr>\n",
              "      <th>4</th>\n",
              "      <td>Future Days</td>\n",
              "      <td>12</td>\n",
              "      <td>Acima da média</td>\n",
              "    </tr>\n",
              "    <tr>\n",
              "      <th>5</th>\n",
              "      <td>Retrograde</td>\n",
              "      <td>11</td>\n",
              "      <td>Acima da média</td>\n",
              "    </tr>\n",
              "    <tr>\n",
              "      <th>6</th>\n",
              "      <td>Come Back</td>\n",
              "      <td>12</td>\n",
              "      <td>Acima da média</td>\n",
              "    </tr>\n",
              "    <tr>\n",
              "      <th>7</th>\n",
              "      <td>The Fixer</td>\n",
              "      <td>3</td>\n",
              "      <td>Acima da média</td>\n",
              "    </tr>\n",
              "    <tr>\n",
              "      <th>8</th>\n",
              "      <td>Alive - Live MTV Unplugged</td>\n",
              "      <td>3</td>\n",
              "      <td>Acima da média</td>\n",
              "    </tr>\n",
              "    <tr>\n",
              "      <th>9</th>\n",
              "      <td>State of Love And Trust - Live MTV Unplugged</td>\n",
              "      <td>2</td>\n",
              "      <td>Acima da média</td>\n",
              "    </tr>\n",
              "    <tr>\n",
              "      <th>10</th>\n",
              "      <td>Even Flow - Live MTV Unplugged</td>\n",
              "      <td>6</td>\n",
              "      <td>Acima da média</td>\n",
              "    </tr>\n",
              "    <tr>\n",
              "      <th>11</th>\n",
              "      <td>Jeremy - Live MTV Unplugged</td>\n",
              "      <td>5</td>\n",
              "      <td>Acima da média</td>\n",
              "    </tr>\n",
              "    <tr>\n",
              "      <th>12</th>\n",
              "      <td>Porch - Live MTV Unplugged</td>\n",
              "      <td>7</td>\n",
              "      <td>Acima da média</td>\n",
              "    </tr>\n",
              "    <tr>\n",
              "      <th>13</th>\n",
              "      <td>Dance Of The Clairvoyants</td>\n",
              "      <td>3</td>\n",
              "      <td>Acima da média</td>\n",
              "    </tr>\n",
              "    <tr>\n",
              "      <th>14</th>\n",
              "      <td>Even Flow (Live)</td>\n",
              "      <td>2</td>\n",
              "      <td>Acima da média</td>\n",
              "    </tr>\n",
              "    <tr>\n",
              "      <th>15</th>\n",
              "      <td>The End</td>\n",
              "      <td>11</td>\n",
              "      <td>Acima da média</td>\n",
              "    </tr>\n",
              "    <tr>\n",
              "      <th>16</th>\n",
              "      <td>Unthought Known</td>\n",
              "      <td>7</td>\n",
              "      <td>Acima da média</td>\n",
              "    </tr>\n",
              "    <tr>\n",
              "      <th>17</th>\n",
              "      <td>Superblood Wolfmoon</td>\n",
              "      <td>2</td>\n",
              "      <td>Acima da média</td>\n",
              "    </tr>\n",
              "    <tr>\n",
              "      <th>18</th>\n",
              "      <td>Lightning Bolt</td>\n",
              "      <td>5</td>\n",
              "      <td>Acima da média</td>\n",
              "    </tr>\n",
              "    <tr>\n",
              "      <th>19</th>\n",
              "      <td>Amongst The Waves</td>\n",
              "      <td>6</td>\n",
              "      <td>Acima da média</td>\n",
              "    </tr>\n",
              "    <tr>\n",
              "      <th>20</th>\n",
              "      <td>Seven O'Clock</td>\n",
              "      <td>6</td>\n",
              "      <td>Acima da média</td>\n",
              "    </tr>\n",
              "    <tr>\n",
              "      <th>21</th>\n",
              "      <td>World Wide Suicide</td>\n",
              "      <td>2</td>\n",
              "      <td>Acima da média</td>\n",
              "    </tr>\n",
              "    <tr>\n",
              "      <th>22</th>\n",
              "      <td>Thumbing My Way</td>\n",
              "      <td>7</td>\n",
              "      <td>Acima da média</td>\n",
              "    </tr>\n",
              "    <tr>\n",
              "      <th>23</th>\n",
              "      <td>Quick Escape</td>\n",
              "      <td>4</td>\n",
              "      <td>Acima da média</td>\n",
              "    </tr>\n",
              "    <tr>\n",
              "      <th>24</th>\n",
              "      <td>Alright</td>\n",
              "      <td>5</td>\n",
              "      <td>Acima da média</td>\n",
              "    </tr>\n",
              "    <tr>\n",
              "      <th>25</th>\n",
              "      <td>Save You</td>\n",
              "      <td>2</td>\n",
              "      <td>Acima da média</td>\n",
              "    </tr>\n",
              "    <tr>\n",
              "      <th>26</th>\n",
              "      <td>Parachutes</td>\n",
              "      <td>6</td>\n",
              "      <td>Acima da média</td>\n",
              "    </tr>\n",
              "    <tr>\n",
              "      <th>27</th>\n",
              "      <td>Buckle Up</td>\n",
              "      <td>9</td>\n",
              "      <td>Acima da média</td>\n",
              "    </tr>\n",
              "    <tr>\n",
              "      <th>28</th>\n",
              "      <td>Daughter (Live)</td>\n",
              "      <td>10</td>\n",
              "      <td>Acima da média</td>\n",
              "    </tr>\n",
              "    <tr>\n",
              "      <th>29</th>\n",
              "      <td>Pendulum</td>\n",
              "      <td>7</td>\n",
              "      <td>Acima da média</td>\n",
              "    </tr>\n",
              "    <tr>\n",
              "      <th>30</th>\n",
              "      <td>Never Destination</td>\n",
              "      <td>7</td>\n",
              "      <td>Acima da média</td>\n",
              "    </tr>\n",
              "    <tr>\n",
              "      <th>31</th>\n",
              "      <td>Comes Then Goes</td>\n",
              "      <td>10</td>\n",
              "      <td>Acima da média</td>\n",
              "    </tr>\n",
              "    <tr>\n",
              "      <th>32</th>\n",
              "      <td>Take The Long Way</td>\n",
              "      <td>8</td>\n",
              "      <td>Acima da média</td>\n",
              "    </tr>\n",
              "    <tr>\n",
              "      <th>33</th>\n",
              "      <td>River Cross</td>\n",
              "      <td>12</td>\n",
              "      <td>Acima da média</td>\n",
              "    </tr>\n",
              "    <tr>\n",
              "      <th>34</th>\n",
              "      <td>Mind Your Manners</td>\n",
              "      <td>2</td>\n",
              "      <td>Acima da média</td>\n",
              "    </tr>\n",
              "    <tr>\n",
              "      <th>35</th>\n",
              "      <td>Black - Live</td>\n",
              "      <td>7</td>\n",
              "      <td>Acima da média</td>\n",
              "    </tr>\n",
              "    <tr>\n",
              "      <th>36</th>\n",
              "      <td>Better Man - Live</td>\n",
              "      <td>2</td>\n",
              "      <td>Acima da média</td>\n",
              "    </tr>\n",
              "    <tr>\n",
              "      <th>37</th>\n",
              "      <td>Sleeping By Myself</td>\n",
              "      <td>10</td>\n",
              "      <td>Acima da média</td>\n",
              "    </tr>\n",
              "    <tr>\n",
              "      <th>38</th>\n",
              "      <td>Infallible</td>\n",
              "      <td>6</td>\n",
              "      <td>Acima da média</td>\n",
              "    </tr>\n",
              "    <tr>\n",
              "      <th>39</th>\n",
              "      <td>Force Of Nature</td>\n",
              "      <td>10</td>\n",
              "      <td>Acima da média</td>\n",
              "    </tr>\n",
              "    <tr>\n",
              "      <th>40</th>\n",
              "      <td>Got Some</td>\n",
              "      <td>2</td>\n",
              "      <td>Acima da média</td>\n",
              "    </tr>\n",
              "    <tr>\n",
              "      <th>41</th>\n",
              "      <td>Inside Job</td>\n",
              "      <td>13</td>\n",
              "      <td>Acima da média</td>\n",
              "    </tr>\n",
              "    <tr>\n",
              "      <th>42</th>\n",
              "      <td>Love Boat Captain</td>\n",
              "      <td>3</td>\n",
              "      <td>Acima da média</td>\n",
              "    </tr>\n",
              "    <tr>\n",
              "      <th>43</th>\n",
              "      <td>Yellow Moon</td>\n",
              "      <td>11</td>\n",
              "      <td>Acima da média</td>\n",
              "    </tr>\n",
              "  </tbody>\n",
              "</table>\n",
              "</div>"
            ],
            "text/plain": [
              "                                   nome_da_faixa  ...  frequencia_de_popularidade_das_musicas\n",
              "0                                   Just Breathe  ...                          Acima da média\n",
              "1                                         Sirens  ...                          Acima da média\n",
              "2                     Black - Live MTV Unplugged  ...                          Acima da média\n",
              "3                                      I Am Mine  ...                          Acima da média\n",
              "4                                    Future Days  ...                          Acima da média\n",
              "5                                     Retrograde  ...                          Acima da média\n",
              "6                                      Come Back  ...                          Acima da média\n",
              "7                                      The Fixer  ...                          Acima da média\n",
              "8                     Alive - Live MTV Unplugged  ...                          Acima da média\n",
              "9   State of Love And Trust - Live MTV Unplugged  ...                          Acima da média\n",
              "10                Even Flow - Live MTV Unplugged  ...                          Acima da média\n",
              "11                   Jeremy - Live MTV Unplugged  ...                          Acima da média\n",
              "12                    Porch - Live MTV Unplugged  ...                          Acima da média\n",
              "13                     Dance Of The Clairvoyants  ...                          Acima da média\n",
              "14                              Even Flow (Live)  ...                          Acima da média\n",
              "15                                       The End  ...                          Acima da média\n",
              "16                               Unthought Known  ...                          Acima da média\n",
              "17                           Superblood Wolfmoon  ...                          Acima da média\n",
              "18                                Lightning Bolt  ...                          Acima da média\n",
              "19                             Amongst The Waves  ...                          Acima da média\n",
              "20                                 Seven O'Clock  ...                          Acima da média\n",
              "21                            World Wide Suicide  ...                          Acima da média\n",
              "22                               Thumbing My Way  ...                          Acima da média\n",
              "23                                  Quick Escape  ...                          Acima da média\n",
              "24                                       Alright  ...                          Acima da média\n",
              "25                                      Save You  ...                          Acima da média\n",
              "26                                    Parachutes  ...                          Acima da média\n",
              "27                                     Buckle Up  ...                          Acima da média\n",
              "28                               Daughter (Live)  ...                          Acima da média\n",
              "29                                      Pendulum  ...                          Acima da média\n",
              "30                             Never Destination  ...                          Acima da média\n",
              "31                               Comes Then Goes  ...                          Acima da média\n",
              "32                             Take The Long Way  ...                          Acima da média\n",
              "33                                   River Cross  ...                          Acima da média\n",
              "34                             Mind Your Manners  ...                          Acima da média\n",
              "35                                  Black - Live  ...                          Acima da média\n",
              "36                             Better Man - Live  ...                          Acima da média\n",
              "37                            Sleeping By Myself  ...                          Acima da média\n",
              "38                                    Infallible  ...                          Acima da média\n",
              "39                               Force Of Nature  ...                          Acima da média\n",
              "40                                      Got Some  ...                          Acima da média\n",
              "41                                    Inside Job  ...                          Acima da média\n",
              "42                             Love Boat Captain  ...                          Acima da média\n",
              "43                                   Yellow Moon  ...                          Acima da média\n",
              "\n",
              "[44 rows x 3 columns]"
            ]
          },
          "metadata": {
            "tags": []
          },
          "execution_count": 46
        }
      ]
    },
    {
      "cell_type": "code",
      "metadata": {
        "id": "I8ju7AX-3Tj-"
      },
      "source": [
        "#Salvando o notebook em um arquivo no formato csv\n",
        "df.to_csv('pj-spotify-final-3.csv')\n",
        "\n"
      ],
      "execution_count": null,
      "outputs": []
    },
    {
      "cell_type": "code",
      "metadata": {
        "id": "00g59VStbFIe"
      },
      "source": [
        "df3 = media_popularidade"
      ],
      "execution_count": null,
      "outputs": []
    },
    {
      "cell_type": "code",
      "metadata": {
        "id": "-QwCITOzbG7Q"
      },
      "source": [
        "df3.to_csv('popularidade.csv')"
      ],
      "execution_count": null,
      "outputs": []
    }
  ]
}